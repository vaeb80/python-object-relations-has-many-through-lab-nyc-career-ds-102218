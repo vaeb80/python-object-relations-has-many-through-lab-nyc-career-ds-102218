{
 "cells": [
  {
   "cell_type": "markdown",
   "metadata": {},
   "source": [
    "# Python Object Relationships - Has Many Through Lab"
   ]
  },
  {
   "cell_type": "markdown",
   "metadata": {},
   "source": [
    "## Introduction\n",
    "In this lab we are going to work on creating a **has many through** relationship. Until this point, our relationships have been pretty straight forward. But what if we are dealing with a relationship in which either class could have many of the other class. Consider, for example, the relationship between a `Doctor` and a `Patient`. We know just about everyone has more than one doctor, or at least they could hypothetically. We have eye doctors, teeth doctors (otherwise known as dentists), general practitioners (doctor you see for regular checkups), and so on. And doctors will have more than one patient if they want to have a thriving practice. Since this is a **many to many** relationship, we have to add in a third class. Don't worry -- we'll figure this out together. \n",
    "\n",
    "Let's ask ourselves what doctors and patients have in common. They both are usually running late? Well yes, but it doesn't seem like that would help explain their connection. What about they both have an appointment? Let's say we have doctor Danielle and patient Patrick. Doctor Danielle **has one** appointment with a patient Patrick and patient Patrick also **has one** appointment with doctor Danielle. We can also say that this appointment **belongs to** both a the doctor and the patient. This sounds like the right connection! Pretty neat, right? Let's get started translating something like this into code."
   ]
  },
  {
   "cell_type": "markdown",
   "metadata": {},
   "source": [
    "## Objectives\n",
    "* Define classes for a domain with a has many through relationship\n",
    "* Define instance methods that operate on and return information about the has many through relationship "
   ]
  },
  {
   "cell_type": "markdown",
   "metadata": {},
   "source": [
    "## Defining Our Classes\n",
    "In this lab, we will be working with a `Driver` class, a `Passenger` class, and a `Trip` class. The relationship between these should be such that a driver has many passengers through trips and a passenger has many drivers through trips. Each trip belongs to one driver and one passenger. \n",
    "* a driver should have a `name` and a `driving_style` (i.e. \"nascar-like\", \"safe\", \"nyc-taxi-driver\", etc.) attribute, which should both have setters and getters\n",
    "* a passenger should have a `name` and an `age`\n",
    "* a trip should have a `driver`, a `passenger`, a class variable `_all` which points to a list of all trip instances, and a class method, `all` that returns the `_all` list"
   ]
  },
  {
   "cell_type": "code",
   "execution_count": 1,
   "metadata": {},
   "outputs": [],
   "source": [
    "from driver import Driver\n",
    "daniel = Driver(\"Daniel\", \"fast and furious\")\n",
    "alice = Driver(\"Alice\", \"faster and furiouser\")\n",
    "jeff = Driver(\"Jeff\", \"defensive\")"
   ]
  },
  {
   "cell_type": "code",
   "execution_count": 2,
   "metadata": {},
   "outputs": [],
   "source": [
    "from passenger import Passenger\n",
    "jake = Passenger(\"Jake\", 29)\n",
    "anna = Passenger(\"Anna\", 25)\n",
    "katie = Passenger(\"Katie\", 20)"
   ]
  },
  {
   "cell_type": "code",
   "execution_count": 3,
   "metadata": {},
   "outputs": [
    {
     "data": {
      "text/plain": [
       "True"
      ]
     },
     "execution_count": 3,
     "metadata": {},
     "output_type": "execute_result"
    }
   ],
   "source": [
    "from trip import Trip\n",
    "# create trip instances here using the above passenger and driver instance objects\n",
    "trip_one = Trip(daniel, jake)\n",
    "trip_two = Trip(alice, jake)\n",
    "trip_three = Trip(jeff, anna)\n",
    "trip_four = Trip(daniel, katie)\n",
    "type(katie) == Passenger"
   ]
  },
  {
   "cell_type": "markdown",
   "metadata": {},
   "source": [
    "## Operating On Has Many Through Relationships"
   ]
  },
  {
   "cell_type": "markdown",
   "metadata": {},
   "source": [
    "Okay, so, we have our has many through relationship set up. Now let's define some instance methods that will help us find a driver's associated passengers and vice versa.\n",
    "\n",
    "Below, find a list of instance methods along with the expected return value for each:"
   ]
  },
  {
   "cell_type": "markdown",
   "metadata": {},
   "source": [
    "> **Hint**: As we can see these methods seem to be quite similar. This is a great time to have a Query class and define methods that will handle these queries, so, we don't have to define the same methods in two separate classes."
   ]
  },
  {
   "cell_type": "code",
   "execution_count": 4,
   "metadata": {},
   "outputs": [
    {
     "data": {
      "text/plain": [
       "[<trip.Trip at 0x10c618358>, <trip.Trip at 0x10c618400>]"
      ]
     },
     "execution_count": 4,
     "metadata": {},
     "output_type": "execute_result"
    }
   ],
   "source": [
    "daniel.trips() \n",
    "# should return a list of trip instance objects of trips \n",
    "# associated with only the given driver (i.e. daniel)"
   ]
  },
  {
   "cell_type": "code",
   "execution_count": 5,
   "metadata": {},
   "outputs": [
    {
     "data": {
      "text/plain": [
       "[<trip.Trip at 0x10c618400>]"
      ]
     },
     "execution_count": 5,
     "metadata": {},
     "output_type": "execute_result"
    }
   ],
   "source": [
    "katie.trips() \n",
    "# should return a list of trip instance objects of trips \n",
    "# associated with only the given passenger (i.e. kaite)"
   ]
  },
  {
   "cell_type": "code",
   "execution_count": 6,
   "metadata": {},
   "outputs": [
    {
     "data": {
      "text/plain": [
       "[<passenger.Passenger at 0x10c6eecf8>, <passenger.Passenger at 0x10c6eec88>]"
      ]
     },
     "execution_count": 6,
     "metadata": {},
     "output_type": "execute_result"
    }
   ],
   "source": [
    "daniel.passengers()\n",
    "# should return a list of passenger instance objects of passengers \n",
    "# who have taken trips with the given driver (i.e. daniel)"
   ]
  },
  {
   "cell_type": "code",
   "execution_count": 7,
   "metadata": {},
   "outputs": [
    {
     "data": {
      "text/plain": [
       "[<driver.Driver at 0x10c6ee240>]"
      ]
     },
     "execution_count": 7,
     "metadata": {},
     "output_type": "execute_result"
    }
   ],
   "source": [
    "katie.drivers() \n",
    "# should return a list of driver instance objects of drivers \n",
    "# who have taken trips with the given passenger (i.e. katie)"
   ]
  },
  {
   "cell_type": "code",
   "execution_count": 8,
   "metadata": {},
   "outputs": [
    {
     "data": {
      "text/plain": [
       "1"
      ]
     },
     "execution_count": 8,
     "metadata": {},
     "output_type": "execute_result"
    }
   ],
   "source": [
    "alice.trip_count() \n",
    "# should return the number of trips completed by the given driver (i.e. daniel)"
   ]
  },
  {
   "cell_type": "code",
   "execution_count": 9,
   "metadata": {},
   "outputs": [
    {
     "data": {
      "text/plain": [
       "2"
      ]
     },
     "execution_count": 9,
     "metadata": {},
     "output_type": "execute_result"
    }
   ],
   "source": [
    "jake.trip_count() \n",
    "# should return the number of trips taken by the given passenger (i.e. katie)"
   ]
  },
  {
   "cell_type": "markdown",
   "metadata": {},
   "source": [
    "Great work!"
   ]
  },
  {
   "cell_type": "markdown",
   "metadata": {},
   "source": [
    "## Artists, Songs, Genres"
   ]
  },
  {
   "cell_type": "markdown",
   "metadata": {},
   "source": [
    "Alright, so, we got our first has many through relationship down.  Let's try one more. This time, we are going to switch to a fresh domain made up of Artists, Songs, and Genres. Artists create songs of all different genres. I mean have you heard the transformation of Lady Gaga's music from hits like *Poker Face* and *Bad Romance* to songs like *Joanne* and her collaboration album, *Cheek to Cheek*, with Tony Bennett? Honestly, what *can't* she do? \n",
    "\n",
    "The relationships between these three is such that:\n",
    "* an artist **has many** songs\n",
    "* an artist **has many** genres through songs\n",
    "* a song **belongs to** an artist and **belongs to** a genre\n",
    "* a genre **has many** songs\n",
    "* a genre **has many** artists through songs\n",
    "\n",
    "Okay, so let's define these classes and make sure that songs have a `name`, an `artist`, and a `genre`. Also make sure to have a class variable `_all` and an `all` class method that returns the `_all` list. Genres and artists should both have a `name` as well."
   ]
  },
  {
   "cell_type": "markdown",
   "metadata": {},
   "source": [
    "Create the proper instance methods using property decorators to get and set (read and write) each attribute for an artist, song, and genre. Then create the instance methods listed below with the description of their return values:"
   ]
  },
  {
   "cell_type": "code",
   "execution_count": 10,
   "metadata": {},
   "outputs": [],
   "source": [
    "from artist import Artist\n",
    "lady_gaga = Artist(\"Lady Gaga\")\n",
    "lcd_soundsystem = Artist(\"LCD Soundsystem\")\n",
    "vulfpeck = Artist(\"Vulfpeck\")\n",
    "# create as many artists as you'd like"
   ]
  },
  {
   "cell_type": "code",
   "execution_count": 11,
   "metadata": {},
   "outputs": [],
   "source": [
    "from genre import Genre\n",
    "pop = Genre(\"Pop\")\n",
    "rock = Genre(\"Rock\")\n",
    "alt = Genre(\"Alternative\")\n",
    "indie = Genre(\"Indie\")\n",
    "folk = Genre(\"Folk\")\n",
    "country = Genre(\"Country\")\n",
    "funk = Genre(\"Funk\")\n",
    "jam = Genre(\"Jam\")\n",
    "# create as many genres as you'd like"
   ]
  },
  {
   "cell_type": "code",
   "execution_count": 12,
   "metadata": {},
   "outputs": [],
   "source": [
    "from song import Song\n",
    "# create song instances and associate them with artists and genres fromabove \n",
    "# you can make up the songs if you'd like\n",
    "song1=Song('gaga1',lady_gaga, pop)\n",
    "song2=Song('gaga2', lady_gaga, rock)\n",
    "song3=Song('gaga2',lady_gaga, pop)\n",
    "song4=Song('vulfpeck1', vulfpeck, rock)\n"
   ]
  },
  {
   "cell_type": "code",
   "execution_count": 13,
   "metadata": {
    "scrolled": true
   },
   "outputs": [
    {
     "data": {
      "text/plain": [
       "[<song.Song at 0x10c70d668>,\n",
       " <song.Song at 0x10c70d6a0>,\n",
       " <song.Song at 0x10c70d6d8>]"
      ]
     },
     "execution_count": 13,
     "metadata": {},
     "output_type": "execute_result"
    }
   ],
   "source": [
    "lady_gaga.songs() # returns a list of songs associated with the given artist (i.e. lady_gaga)"
   ]
  },
  {
   "cell_type": "code",
   "execution_count": 14,
   "metadata": {},
   "outputs": [
    {
     "data": {
      "text/plain": [
       "[<genre.Genre at 0x10c70d0f0>,\n",
       " <genre.Genre at 0x10c70d0b8>,\n",
       " <genre.Genre at 0x10c70d0f0>]"
      ]
     },
     "execution_count": 14,
     "metadata": {},
     "output_type": "execute_result"
    }
   ],
   "source": [
    "lady_gaga.genres() # returns a list of genres associated with the given artist (i.e. lcd_soundsystem)"
   ]
  },
  {
   "cell_type": "code",
   "execution_count": 15,
   "metadata": {},
   "outputs": [
    {
     "data": {
      "text/plain": [
       "[<song.Song at 0x10c70d668>, <song.Song at 0x10c70d6d8>]"
      ]
     },
     "execution_count": 15,
     "metadata": {},
     "output_type": "execute_result"
    }
   ],
   "source": [
    "pop.songs() # returns a list of songs associated with the given genre (i.e. pop)"
   ]
  },
  {
   "cell_type": "code",
   "execution_count": 16,
   "metadata": {},
   "outputs": [
    {
     "data": {
      "text/plain": [
       "[]"
      ]
     },
     "execution_count": 16,
     "metadata": {},
     "output_type": "execute_result"
    }
   ],
   "source": [
    "indie.artists() # returns a list of artists associated with the given genre (i.e. indie)"
   ]
  },
  {
   "cell_type": "markdown",
   "metadata": {},
   "source": [
    "## Summary\n"
   ]
  },
  {
   "cell_type": "markdown",
   "metadata": {},
   "source": [
    "Great work! In this lab we worked with creating and operating on domains that have a has many through relationship."
   ]
  }
 ],
 "metadata": {
  "kernelspec": {
   "display_name": "Python 3",
   "language": "python",
   "name": "python3"
  },
  "language_info": {
   "codemirror_mode": {
    "name": "ipython",
    "version": 3
   },
   "file_extension": ".py",
   "mimetype": "text/x-python",
   "name": "python",
   "nbconvert_exporter": "python",
   "pygments_lexer": "ipython3",
   "version": "3.7.0"
  }
 },
 "nbformat": 4,
 "nbformat_minor": 2
}
